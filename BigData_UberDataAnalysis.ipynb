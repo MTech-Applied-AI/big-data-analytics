{
  "nbformat": 4,
  "nbformat_minor": 0,
  "metadata": {
    "colab": {
      "provenance": []
    },
    "kernelspec": {
      "name": "python3",
      "display_name": "Python 3"
    },
    "language_info": {
      "name": "python"
    }
  },
  "cells": [
    {
      "cell_type": "code",
      "execution_count": 2,
      "metadata": {
        "colab": {
          "base_uri": "https://localhost:8080/"
        },
        "id": "qCqXQfgZ3iFl",
        "outputId": "7454737f-9d09-4293-d067-10131833fe06"
      },
      "outputs": [
        {
          "output_type": "stream",
          "name": "stdout",
          "text": [
            "Requirement already satisfied: pyspark in /usr/local/lib/python3.11/dist-packages (3.5.1)\n",
            "Requirement already satisfied: py4j==0.10.9.7 in /usr/local/lib/python3.11/dist-packages (from pyspark) (0.10.9.7)\n"
          ]
        }
      ],
      "source": [
        "pip install pyspark"
      ]
    },
    {
      "cell_type": "code",
      "source": [
        "from pyspark.sql import SparkSession"
      ],
      "metadata": {
        "id": "9mbJQvKv34O9"
      },
      "execution_count": 3,
      "outputs": []
    },
    {
      "cell_type": "code",
      "source": [
        "spark=SparkSession.builder.appName('Uber Data Aanalysis').getOrCreate()"
      ],
      "metadata": {
        "id": "uLShtTbe4JW7"
      },
      "execution_count": 4,
      "outputs": []
    },
    {
      "cell_type": "code",
      "source": [
        "sc = spark.sparkContext"
      ],
      "metadata": {
        "id": "r9N1JuAE4Ufo"
      },
      "execution_count": 5,
      "outputs": []
    },
    {
      "cell_type": "code",
      "source": [
        "data_with_headerRDD = sc.textFile(\"/content/sample_data/uber_data\")"
      ],
      "metadata": {
        "id": "NLt1weA_4fhD"
      },
      "execution_count": 6,
      "outputs": []
    },
    {
      "cell_type": "code",
      "source": [
        "data_with_headerRDD.count()"
      ],
      "metadata": {
        "colab": {
          "base_uri": "https://localhost:8080/"
        },
        "id": "fTWty3Pd43bc",
        "outputId": "8ae1802d-19ae-4978-e54d-25f18b1cca91"
      },
      "execution_count": 8,
      "outputs": [
        {
          "output_type": "execute_result",
          "data": {
            "text/plain": [
              "355"
            ]
          },
          "metadata": {},
          "execution_count": 8
        }
      ]
    },
    {
      "cell_type": "code",
      "source": [
        "for line in data_with_headerRDD.take(5):\n",
        "  print(line)"
      ],
      "metadata": {
        "colab": {
          "base_uri": "https://localhost:8080/"
        },
        "id": "zVWJkRN95MA4",
        "outputId": "4ce10ddd-60cb-438b-8f07-ae22742e3b3f"
      },
      "execution_count": 9,
      "outputs": [
        {
          "output_type": "stream",
          "name": "stdout",
          "text": [
            "dispatching_base_number,date,active_vehicles,trips\n",
            "B02512,1/1/2015,190,1132\n",
            "B02765,1/1/2015,225,1765\n",
            "B02764,1/1/2015,3427,29421\n",
            "B02682,1/1/2015,945,7679\n"
          ]
        }
      ]
    },
    {
      "cell_type": "code",
      "source": [
        "data_with_headerRDD.getNumPartitions()"
      ],
      "metadata": {
        "colab": {
          "base_uri": "https://localhost:8080/"
        },
        "id": "IScYsR5Q5Q8N",
        "outputId": "149b0e6b-4f25-4bd8-87cc-afcad3687bd0"
      },
      "execution_count": 10,
      "outputs": [
        {
          "output_type": "execute_result",
          "data": {
            "text/plain": [
              "2"
            ]
          },
          "metadata": {},
          "execution_count": 10
        }
      ]
    },
    {
      "cell_type": "code",
      "source": [
        "header=data_with_headerRDD.first()"
      ],
      "metadata": {
        "id": "xYtOGfPt5sGK"
      },
      "execution_count": 11,
      "outputs": []
    },
    {
      "cell_type": "code",
      "source": [
        "print(header)"
      ],
      "metadata": {
        "colab": {
          "base_uri": "https://localhost:8080/"
        },
        "id": "JHzTycrl57Hk",
        "outputId": "2e3c8928-2254-465c-b2f0-b8e9c76076f9"
      },
      "execution_count": 12,
      "outputs": [
        {
          "output_type": "stream",
          "name": "stdout",
          "text": [
            "dispatching_base_number,date,active_vehicles,trips\n"
          ]
        }
      ]
    },
    {
      "cell_type": "code",
      "source": [
        "uberRDD=data_with_headerRDD.filter(lambda a : a !=header)"
      ],
      "metadata": {
        "id": "trxt4gHh59iq"
      },
      "execution_count": 13,
      "outputs": []
    },
    {
      "cell_type": "code",
      "source": [
        "uberRDD.count()"
      ],
      "metadata": {
        "colab": {
          "base_uri": "https://localhost:8080/"
        },
        "id": "MF4RY1sR7SyW",
        "outputId": "7335334a-1d9f-4c3d-a10b-80dc0443b6bd"
      },
      "execution_count": 14,
      "outputs": [
        {
          "output_type": "execute_result",
          "data": {
            "text/plain": [
              "354"
            ]
          },
          "metadata": {},
          "execution_count": 14
        }
      ]
    },
    {
      "cell_type": "code",
      "source": [
        "for line in uberRDD.take(5):\n",
        "  print(line)"
      ],
      "metadata": {
        "colab": {
          "base_uri": "https://localhost:8080/"
        },
        "id": "RndZs-ZE7VdA",
        "outputId": "82d1f9a9-ced3-4bfa-de08-9e6261f7c78a"
      },
      "execution_count": 15,
      "outputs": [
        {
          "output_type": "stream",
          "name": "stdout",
          "text": [
            "B02512,1/1/2015,190,1132\n",
            "B02765,1/1/2015,225,1765\n",
            "B02764,1/1/2015,3427,29421\n",
            "B02682,1/1/2015,945,7679\n",
            "B02617,1/1/2015,1228,9537\n"
          ]
        }
      ]
    },
    {
      "cell_type": "code",
      "source": [
        "import datetime"
      ],
      "metadata": {
        "id": "qo3dNjJG7o9S"
      },
      "execution_count": 16,
      "outputs": []
    },
    {
      "cell_type": "code",
      "source": [
        "format_date = \"%m/%d/%Y\""
      ],
      "metadata": {
        "id": "am1Bj4X1-2rg"
      },
      "execution_count": 17,
      "outputs": []
    },
    {
      "cell_type": "code",
      "source": [
        "print(datetime.datetime.strptime(\"05/11/2025\", format_date).strftime(\"%A\"))"
      ],
      "metadata": {
        "colab": {
          "base_uri": "https://localhost:8080/"
        },
        "id": "J1Ru9eGS_Zay",
        "outputId": "ffa4c521-267b-41ee-ec15-9c7b54b18e3f"
      },
      "execution_count": 18,
      "outputs": [
        {
          "output_type": "stream",
          "name": "stdout",
          "text": [
            "Sunday\n"
          ]
        }
      ]
    },
    {
      "cell_type": "code",
      "source": [
        "tupleRDD= uberRDD.map(lambda a : (a.split(\",\")[0], datetime.datetime.strptime(a.split(\",\")[1],format_date).strftime(\"%A\"), a.split(\",\")[3]))"
      ],
      "metadata": {
        "id": "5j1O0QLQAF7n"
      },
      "execution_count": 35,
      "outputs": []
    },
    {
      "cell_type": "code",
      "source": [
        "for line in tupleRDD.take(5):\n",
        "  print(line)"
      ],
      "metadata": {
        "colab": {
          "base_uri": "https://localhost:8080/"
        },
        "id": "ku1yj0o6Bchp",
        "outputId": "e70087d5-b539-4b9a-8bee-2a68629cd0a2"
      },
      "execution_count": 36,
      "outputs": [
        {
          "output_type": "stream",
          "name": "stdout",
          "text": [
            "('B02512', 'Thursday', '1132')\n",
            "('B02765', 'Thursday', '1765')\n",
            "('B02764', 'Thursday', '29421')\n",
            "('B02682', 'Thursday', '7679')\n",
            "('B02617', 'Thursday', '9537')\n"
          ]
        }
      ]
    },
    {
      "cell_type": "code",
      "source": [
        "tupleRDD.count()"
      ],
      "metadata": {
        "colab": {
          "base_uri": "https://localhost:8080/"
        },
        "id": "SL4-RkeKBkEB",
        "outputId": "b96a7eb6-1877-4b22-cd95-88c9f748f815"
      },
      "execution_count": 37,
      "outputs": [
        {
          "output_type": "execute_result",
          "data": {
            "text/plain": [
              "354"
            ]
          },
          "metadata": {},
          "execution_count": 37
        }
      ]
    },
    {
      "cell_type": "code",
      "source": [
        "kvPairRDD = tupleRDD.map(lambda a : (a[0] + \" \" + a[1], int(a[2])))"
      ],
      "metadata": {
        "id": "kv5G8uYQCiWK"
      },
      "execution_count": 38,
      "outputs": []
    },
    {
      "cell_type": "code",
      "source": [
        "for line in kvPairRDD.take(5):\n",
        "  print(line)"
      ],
      "metadata": {
        "colab": {
          "base_uri": "https://localhost:8080/"
        },
        "id": "QWfaE6txDPNq",
        "outputId": "1834f8d0-f464-4b08-d487-ed2b50c2d295"
      },
      "execution_count": 39,
      "outputs": [
        {
          "output_type": "stream",
          "name": "stdout",
          "text": [
            "('B02512 Thursday', 1132)\n",
            "('B02765 Thursday', 1765)\n",
            "('B02764 Thursday', 29421)\n",
            "('B02682 Thursday', 7679)\n",
            "('B02617 Thursday', 9537)\n"
          ]
        }
      ]
    },
    {
      "cell_type": "code",
      "source": [
        "totalTripsRDD = kvPairRDD.reduceByKey(lambda a,b : a+b)"
      ],
      "metadata": {
        "id": "9KV3EoyjDVSh"
      },
      "execution_count": 40,
      "outputs": []
    },
    {
      "cell_type": "code",
      "source": [
        "for line in totalTripsRDD.collect():\n",
        "  print(line)"
      ],
      "metadata": {
        "colab": {
          "base_uri": "https://localhost:8080/"
        },
        "id": "hhT7ra_-n2J5",
        "outputId": "0f88ca81-9163-4643-f510-e45efbdf7372"
      },
      "execution_count": 42,
      "outputs": [
        {
          "output_type": "stream",
          "name": "stdout",
          "text": [
            "('B02512 Thursday', 15809)\n",
            "('B02764 Thursday', 304200)\n",
            "('B02682 Thursday', 106643)\n",
            "('B02617 Thursday', 118254)\n",
            "('B02598 Friday', 93126)\n",
            "('B02617 Friday', 125067)\n",
            "('B02512 Friday', 16435)\n",
            "('B02682 Friday', 114662)\n",
            "('B02765 Friday', 34934)\n",
            "('B02764 Friday', 326968)\n",
            "('B02512 Saturday', 15026)\n",
            "('B02617 Sunday', 91722)\n",
            "('B02764 Sunday', 249896)\n",
            "('B02512 Monday', 11297)\n",
            "('B02682 Monday', 74939)\n",
            "('B02617 Monday', 80591)\n",
            "('B02764 Monday', 214116)\n",
            "('B02765 Monday', 21974)\n",
            "('B02765 Tuesday', 22741)\n",
            "('B02617 Wednesday', 94887)\n",
            "('B02682 Wednesday', 86252)\n",
            "('B02764 Wednesday', 241137)\n",
            "('B02598 Wednesday', 71956)\n",
            "('B02765 Thursday', 30408)\n",
            "('B02598 Thursday', 90333)\n",
            "('B02765 Saturday', 36737)\n",
            "('B02617 Saturday', 127902)\n",
            "('B02598 Saturday', 94588)\n",
            "('B02682 Saturday', 120283)\n",
            "('B02764 Saturday', 356789)\n",
            "('B02512 Sunday', 10487)\n",
            "('B02682 Sunday', 82825)\n",
            "('B02598 Sunday', 66477)\n",
            "('B02765 Sunday', 22536)\n",
            "('B02598 Monday', 60882)\n",
            "('B02764 Tuesday', 221343)\n",
            "('B02682 Tuesday', 76905)\n",
            "('B02617 Tuesday', 86602)\n",
            "('B02512 Tuesday', 12041)\n",
            "('B02598 Tuesday', 63429)\n",
            "('B02765 Wednesday', 24340)\n",
            "('B02512 Wednesday', 12691)\n"
          ]
        }
      ]
    },
    {
      "cell_type": "code",
      "source": [
        "sortbyval = totalTripsRDD.sortBy(lambda a : -a[1])"
      ],
      "metadata": {
        "id": "nuZtbbmhn_zA"
      },
      "execution_count": 43,
      "outputs": []
    },
    {
      "cell_type": "code",
      "source": [
        "for line in sortbyval.collect():\n",
        "  print(line)"
      ],
      "metadata": {
        "colab": {
          "base_uri": "https://localhost:8080/"
        },
        "id": "MAa3fhA0n_wX",
        "outputId": "16b699fc-0885-4972-a236-25258352bdcd"
      },
      "execution_count": 44,
      "outputs": [
        {
          "output_type": "stream",
          "name": "stdout",
          "text": [
            "('B02764 Saturday', 356789)\n",
            "('B02764 Friday', 326968)\n",
            "('B02764 Thursday', 304200)\n",
            "('B02764 Sunday', 249896)\n",
            "('B02764 Wednesday', 241137)\n",
            "('B02764 Tuesday', 221343)\n",
            "('B02764 Monday', 214116)\n",
            "('B02617 Saturday', 127902)\n",
            "('B02617 Friday', 125067)\n",
            "('B02682 Saturday', 120283)\n",
            "('B02617 Thursday', 118254)\n",
            "('B02682 Friday', 114662)\n",
            "('B02682 Thursday', 106643)\n",
            "('B02617 Wednesday', 94887)\n",
            "('B02598 Saturday', 94588)\n",
            "('B02598 Friday', 93126)\n",
            "('B02617 Sunday', 91722)\n",
            "('B02598 Thursday', 90333)\n",
            "('B02617 Tuesday', 86602)\n",
            "('B02682 Wednesday', 86252)\n",
            "('B02682 Sunday', 82825)\n",
            "('B02617 Monday', 80591)\n",
            "('B02682 Tuesday', 76905)\n",
            "('B02682 Monday', 74939)\n",
            "('B02598 Wednesday', 71956)\n",
            "('B02598 Sunday', 66477)\n",
            "('B02598 Tuesday', 63429)\n",
            "('B02598 Monday', 60882)\n",
            "('B02765 Saturday', 36737)\n",
            "('B02765 Friday', 34934)\n",
            "('B02765 Thursday', 30408)\n",
            "('B02765 Wednesday', 24340)\n",
            "('B02765 Tuesday', 22741)\n",
            "('B02765 Sunday', 22536)\n",
            "('B02765 Monday', 21974)\n",
            "('B02512 Friday', 16435)\n",
            "('B02512 Thursday', 15809)\n",
            "('B02512 Saturday', 15026)\n",
            "('B02512 Wednesday', 12691)\n",
            "('B02512 Tuesday', 12041)\n",
            "('B02512 Monday', 11297)\n",
            "('B02512 Sunday', 10487)\n"
          ]
        }
      ]
    },
    {
      "cell_type": "markdown",
      "source": [
        "**Joins**"
      ],
      "metadata": {
        "id": "i4bMFtyyoJgy"
      }
    },
    {
      "cell_type": "code",
      "source": [
        "mylist = [100,200,300]"
      ],
      "metadata": {
        "id": "q1Q3UBfLoD59"
      },
      "execution_count": 45,
      "outputs": []
    },
    {
      "cell_type": "code",
      "source": [
        "print(mylist)"
      ],
      "metadata": {
        "colab": {
          "base_uri": "https://localhost:8080/"
        },
        "id": "-WuhRboFoRoJ",
        "outputId": "bd24bdd2-660a-4f07-8ae8-66b316834ae9"
      },
      "execution_count": 46,
      "outputs": [
        {
          "output_type": "stream",
          "name": "stdout",
          "text": [
            "[100, 200, 300]\n"
          ]
        }
      ]
    },
    {
      "cell_type": "code",
      "source": [
        "listRDD = sc.parallelize(mylist)\n",
        "for line in listRDD.collect():\n",
        "  print(line)"
      ],
      "metadata": {
        "colab": {
          "base_uri": "https://localhost:8080/"
        },
        "id": "fNjk04PyoShL",
        "outputId": "e37e5845-18aa-4861-dd78-dd1decd22cee"
      },
      "execution_count": 47,
      "outputs": [
        {
          "output_type": "stream",
          "name": "stdout",
          "text": [
            "100\n",
            "200\n",
            "300\n"
          ]
        }
      ]
    },
    {
      "cell_type": "code",
      "source": [
        "rdd1 = sc.parallelize([(\"a\", 1), (\"b\", 4)])\n",
        "rdd1.count()"
      ],
      "metadata": {
        "colab": {
          "base_uri": "https://localhost:8080/"
        },
        "id": "Ga6DdQxkoSei",
        "outputId": "64795fea-62fd-439a-dac1-f9e2e87b1b08"
      },
      "execution_count": 48,
      "outputs": [
        {
          "output_type": "execute_result",
          "data": {
            "text/plain": [
              "2"
            ]
          },
          "metadata": {},
          "execution_count": 48
        }
      ]
    },
    {
      "cell_type": "code",
      "source": [
        "for line in rdd1.collect():\n",
        "  print(line)"
      ],
      "metadata": {
        "colab": {
          "base_uri": "https://localhost:8080/"
        },
        "id": "chePZql9oSb1",
        "outputId": "eb8fed86-114a-4ef4-db6c-c4a0650b00bc"
      },
      "execution_count": 49,
      "outputs": [
        {
          "output_type": "stream",
          "name": "stdout",
          "text": [
            "('a', 1)\n",
            "('b', 4)\n"
          ]
        }
      ]
    },
    {
      "cell_type": "code",
      "source": [
        "rdd2 = sc.parallelize([(\"a\", 2), (\"a\", 3)])\n",
        "for line in rdd2.collect():\n",
        "  print(line)"
      ],
      "metadata": {
        "colab": {
          "base_uri": "https://localhost:8080/"
        },
        "id": "eTfnBESWoSZd",
        "outputId": "4562ac0a-9bb8-4e91-ddb9-4918647f4e2e"
      },
      "execution_count": 50,
      "outputs": [
        {
          "output_type": "stream",
          "name": "stdout",
          "text": [
            "('a', 2)\n",
            "('a', 3)\n"
          ]
        }
      ]
    },
    {
      "cell_type": "code",
      "source": [
        "#inner join\n",
        "rdd1.join(rdd2).collect()"
      ],
      "metadata": {
        "colab": {
          "base_uri": "https://localhost:8080/"
        },
        "id": "LzWvbB_EoetT",
        "outputId": "0aaf3c44-c7a2-40f9-aed9-0a1434fce4fd"
      },
      "execution_count": 51,
      "outputs": [
        {
          "output_type": "execute_result",
          "data": {
            "text/plain": [
              "[('a', (1, 2)), ('a', (1, 3))]"
            ]
          },
          "metadata": {},
          "execution_count": 51
        }
      ]
    },
    {
      "cell_type": "code",
      "source": [
        "#left outer join\n",
        "rdd1.leftOuterJoin(rdd2).collect()"
      ],
      "metadata": {
        "colab": {
          "base_uri": "https://localhost:8080/"
        },
        "id": "p8Kw2V5VoerA",
        "outputId": "06c76ead-eb24-46c8-eb69-e4b6d7148cd6"
      },
      "execution_count": 52,
      "outputs": [
        {
          "output_type": "execute_result",
          "data": {
            "text/plain": [
              "[('b', (4, None)), ('a', (1, 2)), ('a', (1, 3))]"
            ]
          },
          "metadata": {},
          "execution_count": 52
        }
      ]
    },
    {
      "cell_type": "code",
      "source": [
        "#right outer join\n",
        "rdd1.rightOuterJoin(rdd2).collect()"
      ],
      "metadata": {
        "colab": {
          "base_uri": "https://localhost:8080/"
        },
        "id": "73sElfVSoeoj",
        "outputId": "5fe0dbe9-856c-4361-9a33-0a1d64622621"
      },
      "execution_count": 53,
      "outputs": [
        {
          "output_type": "execute_result",
          "data": {
            "text/plain": [
              "[('a', (1, 2)), ('a', (1, 3))]"
            ]
          },
          "metadata": {},
          "execution_count": 53
        }
      ]
    },
    {
      "cell_type": "code",
      "source": [
        "#full outer join\n",
        "rdd1.fullOuterJoin(rdd2).collect()"
      ],
      "metadata": {
        "colab": {
          "base_uri": "https://localhost:8080/"
        },
        "id": "CrV5QkS1ojtN",
        "outputId": "8e44fbb3-9b2c-4e21-aec7-c9104401d5a1"
      },
      "execution_count": 54,
      "outputs": [
        {
          "output_type": "execute_result",
          "data": {
            "text/plain": [
              "[('b', (4, None)), ('a', (1, 2)), ('a', (1, 3))]"
            ]
          },
          "metadata": {},
          "execution_count": 54
        }
      ]
    }
  ]
}